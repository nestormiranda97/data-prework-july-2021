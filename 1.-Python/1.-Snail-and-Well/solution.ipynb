{
 "cells": [
  {
   "cell_type": "code",
   "execution_count": 6,
   "id": "bf8c189f",
   "metadata": {},
   "outputs": [],
   "source": [
    "# Assign problem data to variables with representative names\n",
    "# well height, daily advance, night retreat, accumulated distance\n",
    "well_height = 125\n",
    "daily_advance = 30\n",
    "night_retreat = 20\n",
    "accumulated_distance = 0"
   ]
  },
  {
   "cell_type": "code",
   "execution_count": 7,
   "id": "47cbb9a6",
   "metadata": {},
   "outputs": [],
   "source": [
    "# Assign 0 to the variable that represents the solution\n",
    "day = 0\n"
   ]
  },
  {
   "cell_type": "code",
   "execution_count": 8,
   "id": "e762e922",
   "metadata": {},
   "outputs": [],
   "source": [
    "# Write the code that solves the problem\n",
    "while well_height > accumulated_distance:\n",
    "    accumulated_distance = daily_advance + accumulated_distance\n",
    "    day = day + 1\n",
    "    if accumulated_distance < well_height:\n",
    "        accumulated_distance = accumulated_distance - night_retreat\n",
    "else:\n",
    "        accumulated_distance = accumulated_distance\n"
   ]
  },
  {
   "cell_type": "code",
   "execution_count": 9,
   "id": "75bd8830",
   "metadata": {},
   "outputs": [
    {
     "name": "stdout",
     "output_type": "stream",
     "text": [
      "Days = 11\n"
     ]
    }
   ],
   "source": [
    "# Print the result with print('Days =', days)\n",
    "print(\"Days =\",day)"
   ]
  },
  {
   "cell_type": "code",
   "execution_count": null,
   "id": "b747269f",
   "metadata": {},
   "outputs": [],
   "source": []
  }
 ],
 "metadata": {
  "kernelspec": {
   "display_name": "Python 3",
   "language": "python",
   "name": "python3"
  },
  "language_info": {
   "codemirror_mode": {
    "name": "ipython",
    "version": 3
   },
   "file_extension": ".py",
   "mimetype": "text/x-python",
   "name": "python",
   "nbconvert_exporter": "python",
   "pygments_lexer": "ipython3",
   "version": "3.9.5"
  }
 },
 "nbformat": 4,
 "nbformat_minor": 5
}
