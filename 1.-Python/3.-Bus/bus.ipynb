{
 "cells": [
  {
   "cell_type": "markdown",
   "metadata": {},
   "source": [
    "# Bus\n",
    "\n",
    "This bus has a passenger entry and exit control system to monitor the number of occupants it carries and thus detect when there is too high a capacity.\n",
    "\n",
    "At each stop the entry and exit of passengers is represented by a tuple consisting of two integer numbers.\n",
    "```\n",
    "bus_stop = (in, out)\n",
    "```\n",
    "The succession of stops is represented by a list of these tuples.\n",
    "```\n",
    "stops = [(in1, out1), (in2, out2), (in3, out3), (in4, out4)]\n",
    "```\n",
    "\n",
    "## Goals:\n",
    "* lists, tuples\n",
    "* while/for loops\n",
    "* minimum, maximum, length\n",
    "* average, standard deviation\n",
    "\n",
    "## Tasks\n",
    "1. Calculate the number of stops.\n",
    "2. Assign to a variable a list whose elements are the number of passengers at each stop (in-out),\n",
    "3. Find the maximum occupation of the bus.\n",
    "4. Calculate the average occupation. And the standard deviation.\n"
   ]
  },
  {
   "cell_type": "code",
   "execution_count": 92,
   "metadata": {},
   "outputs": [],
   "source": [
    "# 1. Calculate the number of stops.\n",
    "\n"
   ]
  },
  {
   "cell_type": "code",
   "execution_count": 89,
   "metadata": {},
   "outputs": [],
   "source": [
    "# 2. Assign a variable a list whose elements are the number of passengers in each stop: \n",
    "# Each item depends on the previous item in the list + in - out.\n",
    "\n"
   ]
  },
  {
   "cell_type": "code",
   "execution_count": 4,
   "metadata": {},
   "outputs": [],
   "source": [
    "# 3. Find the maximum occupation of the bus.\n",
    "\n"
   ]
  },
  {
   "cell_type": "code",
   "execution_count": 5,
   "metadata": {},
   "outputs": [],
   "source": [
    "# 4. Calculate the average occupation. And the standard deviation.\n",
    "\n"
   ]
  },
  {
   "cell_type": "code",
   "execution_count": 107,
   "metadata": {
    "scrolled": true
   },
   "outputs": [
    {
     "name": "stdout",
     "output_type": "stream",
     "text": [
      "9\n",
      "10\n",
      "[10]\n",
      "13\n",
      "[10, 13]\n",
      "11\n",
      "[10, 13, 11]\n",
      "10\n",
      "[10, 13, 11, 10]\n",
      "14\n",
      "[10, 13, 11, 10, 14]\n",
      "10\n",
      "[10, 13, 11, 10, 14, 10]\n",
      "7\n",
      "[10, 13, 11, 10, 14, 10, 7]\n",
      "5\n",
      "[10, 13, 11, 10, 14, 10, 7, 5]\n",
      "4\n",
      "[10, 13, 11, 10, 14, 10, 7, 5, 4]\n",
      "14\n",
      "9.333333333333334\n",
      "<function stddev at 0x11974dee0>\n"
     ]
    }
   ],
   "source": [
    "# variables\n",
    "stops = [(10, 0), (4, 1), (3, 5), (3, 4), (5, 1), (1, 5), (5, 8), (4, 6), (2, 3)]\n",
    "\n",
    "print(len(stops))\n",
    "    \n",
    "bus_passengers = 0\n",
    "\n",
    "x=[]\n",
    "\n",
    "for i,k in stops:\n",
    "    bus_passengers = bus_passengers + i\n",
    "    bus_passengers = bus_passengers - k\n",
    "\n",
    "    print(bus_passengers)\n",
    "    \n",
    "    x.append(bus_passengers)\n",
    "    print(x)\n",
    "    \n",
    "print(max(x))\n",
    "\n",
    "average = sum(x)/len(x)\n",
    "print (average)\n",
    "\n",
    "def mean(x):\n",
    "        return float(sum(x) / len(x))\n",
    "\n",
    "def variance(x):\n",
    "        mu = mean(x)\n",
    "        return mean([(l - mu) ** 2 for l in x])\n",
    "\n",
    "def stddev(x):\n",
    "        return sqrt(variance(x))\n",
    "\n",
    "print(stddev)"
   ]
  },
  {
   "cell_type": "code",
   "execution_count": null,
   "metadata": {},
   "outputs": [],
   "source": []
  }
 ],
 "metadata": {
  "kernelspec": {
   "display_name": "Python 3",
   "language": "python",
   "name": "python3"
  },
  "language_info": {
   "codemirror_mode": {
    "name": "ipython",
    "version": 3
   },
   "file_extension": ".py",
   "mimetype": "text/x-python",
   "name": "python",
   "nbconvert_exporter": "python",
   "pygments_lexer": "ipython3",
   "version": "3.9.5"
  }
 },
 "nbformat": 4,
 "nbformat_minor": 2
}
