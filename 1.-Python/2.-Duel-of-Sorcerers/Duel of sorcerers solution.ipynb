{
 "cells": [
  {
   "cell_type": "code",
   "execution_count": 5,
   "id": "c71a3295",
   "metadata": {},
   "outputs": [],
   "source": [
    "# 1. Create two variables called gandalf and saruman and assign them the spell power lists. Create a variable called spells to store the number of spells that the sorcerers cast.¶\n",
    "gandalf = [10, 11, 13, 30, 22, 11, 10, 33, 22, 22]\n",
    "saruman = [23, 66, 12, 43, 12, 10, 44, 23, 12, 17]"
   ]
  },
  {
   "cell_type": "code",
   "execution_count": 6,
   "id": "9f04b812",
   "metadata": {},
   "outputs": [],
   "source": [
    "# 2. Create two variables called gandalf_wins and saruman_wins. Set both of them to 0.¶\n",
    "gandalf_wins = 0\n",
    "saruman_wins = 0"
   ]
  },
  {
   "cell_type": "code",
   "execution_count": 7,
   "id": "970629ba",
   "metadata": {},
   "outputs": [
    {
     "name": "stdout",
     "output_type": "stream",
     "text": [
      "9\n"
     ]
    }
   ],
   "source": [
    "#3. Using the lists of spells of both sorcerers, update variables gandalf_wins and saruman_wins to count the number of times each sorcerer wins a clash.¶\n",
    "\n",
    "for i in range(len(gandalf)):\n",
    "    if gandalf[i] > saruman[i]:\n",
    "        gandalf_wins += 1\n",
    "    elif gandalf[i] < saruman[i]:\n",
    "        saruman_wins += 1\n",
    "print(i)"
   ]
  },
  {
   "cell_type": "code",
   "execution_count": 4,
   "id": "6461e55a",
   "metadata": {},
   "outputs": [
    {
     "name": "stdout",
     "output_type": "stream",
     "text": [
      "Gandalf wins\n"
     ]
    }
   ],
   "source": [
    "#4. Who won the battle?¶\n",
    "if gandalf_wins > saruman_wins:\n",
    "    print('Gandalf wins')\n",
    "elif gandalf_wins < saruman_wins:\n",
    "    print('Saruman wins')\n",
    "else:\n",
    "    print('Tie')"
   ]
  }
 ],
 "metadata": {
  "kernelspec": {
   "display_name": "Python 3",
   "language": "python",
   "name": "python3"
  },
  "language_info": {
   "codemirror_mode": {
    "name": "ipython",
    "version": 3
   },
   "file_extension": ".py",
   "mimetype": "text/x-python",
   "name": "python",
   "nbconvert_exporter": "python",
   "pygments_lexer": "ipython3",
   "version": "3.9.5"
  }
 },
 "nbformat": 4,
 "nbformat_minor": 5
}
